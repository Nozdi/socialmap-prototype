{
 "metadata": {
  "celltoolbar": "Slideshow",
  "kernelspec": {
   "display_name": "Python 2",
   "language": "python",
   "name": "python2"
  },
  "language_info": {
   "codemirror_mode": {
    "name": "ipython",
    "version": 2
   },
   "file_extension": ".py",
   "mimetype": "text/x-python",
   "name": "python",
   "nbconvert_exporter": "python",
   "pygments_lexer": "ipython2",
   "version": "2.7.9"
  },
  "name": "",
  "signature": "sha256:3a44b7a3a3da7a711952388b369ba7ec11883efa47ed522382f47cf3cc6f3339"
 },
 "nbformat": 3,
 "nbformat_minor": 0,
 "worksheets": [
  {
   "cells": [
    {
     "cell_type": "markdown",
     "metadata": {
      "slideshow": {
       "slide_type": "slide"
      }
     },
     "source": [
      "# SocialMap"
     ]
    },
    {
     "cell_type": "markdown",
     "metadata": {},
     "source": [
      "<img src=\"https://i.imgur.com/DGzSZ8h.png\" width=70%>"
     ]
    },
    {
     "cell_type": "markdown",
     "metadata": {
      "slideshow": {
       "slide_type": "slide"
      }
     },
     "source": [
      "# Problem\n",
      "<img src=\"http://www.emergeuk.com/wp-content/uploads/2015/01/ID-100279444.jpg\" width=\"70%\">"
     ]
    },
    {
     "cell_type": "markdown",
     "metadata": {
      "slideshow": {
       "slide_type": "subslide"
      }
     },
     "source": [
      "##Solution"
     ]
    },
    {
     "cell_type": "markdown",
     "metadata": {},
     "source": [
      "<img src=\"https://www.dropbox.com/s/dgkdw48tqgq5eh1/Screen%20Shot%202015-06-09%20at%2019.48.21.png?raw=1\", width=70%>"
     ]
    },
    {
     "cell_type": "markdown",
     "metadata": {
      "slideshow": {
       "slide_type": "slide"
      }
     },
     "source": [
      "# Vertical"
     ]
    },
    {
     "cell_type": "heading",
     "level": 1,
     "metadata": {
      "slideshow": {
       "slide_type": "slide"
      }
     },
     "source": [
      "Hot Zones"
     ]
    },
    {
     "cell_type": "code",
     "collapsed": true,
     "input": [
      "import pandas as pd\n",
      "import matplotlib.pyplot as plt\n",
      "from sklearn.cluster import DBSCAN\n",
      "from scipy.spatial import distance\n",
      "%matplotlib inline "
     ],
     "language": "python",
     "metadata": {
      "slideshow": {
       "slide_type": "skip"
      }
     },
     "outputs": [],
     "prompt_number": 1
    },
    {
     "cell_type": "heading",
     "level": 2,
     "metadata": {
      "slideshow": {
       "slide_type": "-"
      }
     },
     "source": [
      "Loading data"
     ]
    },
    {
     "cell_type": "code",
     "collapsed": false,
     "input": [
      "df = pd.read_json('data.json')[['coordinates', 'text']]\n",
      "df.dropna(inplace=True)\n",
      "df.reset_index(inplace=True)\n",
      "df = df[:5000]\n",
      "df[:5]"
     ],
     "language": "python",
     "metadata": {
      "slideshow": {
       "slide_type": "-"
      }
     },
     "outputs": [
      {
       "html": [
        "<div style=\"max-height:1000px;max-width:1500px;overflow:auto;\">\n",
        "<table border=\"1\" class=\"dataframe\">\n",
        "  <thead>\n",
        "    <tr style=\"text-align: right;\">\n",
        "      <th></th>\n",
        "      <th>index</th>\n",
        "      <th>coordinates</th>\n",
        "      <th>text</th>\n",
        "    </tr>\n",
        "  </thead>\n",
        "  <tbody>\n",
        "    <tr>\n",
        "      <th>0</th>\n",
        "      <td>     0</td>\n",
        "      <td> {u'type': u'Point', u'coordinates': [-0.124964...</td>\n",
        "      <td> Teaser of what's to come next. Watch this spac...</td>\n",
        "    </tr>\n",
        "    <tr>\n",
        "      <th>1</th>\n",
        "      <td>   100</td>\n",
        "      <td> {u'type': u'Point', u'coordinates': [-0.137146...</td>\n",
        "      <td> #Happybirthdaytome xmtamirx @ Tsunami West End...</td>\n",
        "    </tr>\n",
        "    <tr>\n",
        "      <th>2</th>\n",
        "      <td>  1000</td>\n",
        "      <td> {u'type': u'Point', u'coordinates': [-0.120741...</td>\n",
        "      <td> Hands down one of the nicest meals I have ever...</td>\n",
        "    </tr>\n",
        "    <tr>\n",
        "      <th>3</th>\n",
        "      <td> 10000</td>\n",
        "      <td> {u'type': u'Point', u'coordinates': [-0.1271, ...</td>\n",
        "      <td> Trend Alert: 'Charlie Charlie'. More trends at...</td>\n",
        "    </tr>\n",
        "    <tr>\n",
        "      <th>4</th>\n",
        "      <td> 10002</td>\n",
        "      <td> {u'type': u'Point', u'coordinates': [-0.191774...</td>\n",
        "      <td> .@ethiopienne because they thought I'd call th...</td>\n",
        "    </tr>\n",
        "  </tbody>\n",
        "</table>\n",
        "</div>"
       ],
       "metadata": {},
       "output_type": "pyout",
       "prompt_number": 2,
       "text": [
        "   index                                        coordinates  \\\n",
        "0      0  {u'type': u'Point', u'coordinates': [-0.124964...   \n",
        "1    100  {u'type': u'Point', u'coordinates': [-0.137146...   \n",
        "2   1000  {u'type': u'Point', u'coordinates': [-0.120741...   \n",
        "3  10000  {u'type': u'Point', u'coordinates': [-0.1271, ...   \n",
        "4  10002  {u'type': u'Point', u'coordinates': [-0.191774...   \n",
        "\n",
        "                                                text  \n",
        "0  Teaser of what's to come next. Watch this spac...  \n",
        "1  #Happybirthdaytome xmtamirx @ Tsunami West End...  \n",
        "2  Hands down one of the nicest meals I have ever...  \n",
        "3  Trend Alert: 'Charlie Charlie'. More trends at...  \n",
        "4  .@ethiopienne because they thought I'd call th...  "
       ]
      }
     ],
     "prompt_number": 2
    },
    {
     "cell_type": "heading",
     "level": 2,
     "metadata": {
      "slideshow": {
       "slide_type": "subslide"
      }
     },
     "source": [
      "Get coordinates from data"
     ]
    },
    {
     "cell_type": "code",
     "collapsed": false,
     "input": [
      "df[['lon', 'lat']] = df['coordinates'].apply(\n",
      "    lambda c: pd.Series(c['coordinates'])\n",
      ")\n",
      "df['color'] = -1\n",
      "df[:5]"
     ],
     "language": "python",
     "metadata": {
      "slideshow": {
       "slide_type": "-"
      }
     },
     "outputs": [
      {
       "html": [
        "<div style=\"max-height:1000px;max-width:1500px;overflow:auto;\">\n",
        "<table border=\"1\" class=\"dataframe\">\n",
        "  <thead>\n",
        "    <tr style=\"text-align: right;\">\n",
        "      <th></th>\n",
        "      <th>index</th>\n",
        "      <th>coordinates</th>\n",
        "      <th>text</th>\n",
        "      <th>lon</th>\n",
        "      <th>lat</th>\n",
        "      <th>color</th>\n",
        "    </tr>\n",
        "  </thead>\n",
        "  <tbody>\n",
        "    <tr>\n",
        "      <th>0</th>\n",
        "      <td>     0</td>\n",
        "      <td> {u'type': u'Point', u'coordinates': [-0.124964...</td>\n",
        "      <td> Teaser of what's to come next. Watch this spac...</td>\n",
        "      <td>-0.124965</td>\n",
        "      <td> 51.526962</td>\n",
        "      <td>-1</td>\n",
        "    </tr>\n",
        "    <tr>\n",
        "      <th>1</th>\n",
        "      <td>   100</td>\n",
        "      <td> {u'type': u'Point', u'coordinates': [-0.137146...</td>\n",
        "      <td> #Happybirthdaytome xmtamirx @ Tsunami West End...</td>\n",
        "      <td>-0.137146</td>\n",
        "      <td> 51.520491</td>\n",
        "      <td>-1</td>\n",
        "    </tr>\n",
        "    <tr>\n",
        "      <th>2</th>\n",
        "      <td>  1000</td>\n",
        "      <td> {u'type': u'Point', u'coordinates': [-0.120741...</td>\n",
        "      <td> Hands down one of the nicest meals I have ever...</td>\n",
        "      <td>-0.120741</td>\n",
        "      <td> 51.510472</td>\n",
        "      <td>-1</td>\n",
        "    </tr>\n",
        "    <tr>\n",
        "      <th>3</th>\n",
        "      <td> 10000</td>\n",
        "      <td> {u'type': u'Point', u'coordinates': [-0.1271, ...</td>\n",
        "      <td> Trend Alert: 'Charlie Charlie'. More trends at...</td>\n",
        "      <td>-0.127100</td>\n",
        "      <td> 51.506300</td>\n",
        "      <td>-1</td>\n",
        "    </tr>\n",
        "    <tr>\n",
        "      <th>4</th>\n",
        "      <td> 10002</td>\n",
        "      <td> {u'type': u'Point', u'coordinates': [-0.191774...</td>\n",
        "      <td> .@ethiopienne because they thought I'd call th...</td>\n",
        "      <td>-0.191774</td>\n",
        "      <td> 51.513527</td>\n",
        "      <td>-1</td>\n",
        "    </tr>\n",
        "  </tbody>\n",
        "</table>\n",
        "</div>"
       ],
       "metadata": {},
       "output_type": "pyout",
       "prompt_number": 3,
       "text": [
        "   index                                        coordinates  \\\n",
        "0      0  {u'type': u'Point', u'coordinates': [-0.124964...   \n",
        "1    100  {u'type': u'Point', u'coordinates': [-0.137146...   \n",
        "2   1000  {u'type': u'Point', u'coordinates': [-0.120741...   \n",
        "3  10000  {u'type': u'Point', u'coordinates': [-0.1271, ...   \n",
        "4  10002  {u'type': u'Point', u'coordinates': [-0.191774...   \n",
        "\n",
        "                                                text       lon        lat  \\\n",
        "0  Teaser of what's to come next. Watch this spac... -0.124965  51.526962   \n",
        "1  #Happybirthdaytome xmtamirx @ Tsunami West End... -0.137146  51.520491   \n",
        "2  Hands down one of the nicest meals I have ever... -0.120741  51.510472   \n",
        "3  Trend Alert: 'Charlie Charlie'. More trends at... -0.127100  51.506300   \n",
        "4  .@ethiopienne because they thought I'd call th... -0.191774  51.513527   \n",
        "\n",
        "   color  \n",
        "0     -1  \n",
        "1     -1  \n",
        "2     -1  \n",
        "3     -1  \n",
        "4     -1  "
       ]
      }
     ],
     "prompt_number": 3
    },
    {
     "cell_type": "heading",
     "level": 2,
     "metadata": {
      "slideshow": {
       "slide_type": "subslide"
      }
     },
     "source": [
      "Count distances"
     ]
    },
    {
     "cell_type": "code",
     "collapsed": false,
     "input": [
      "coords = df.as_matrix(columns=['lon', 'lat'])\n",
      "distance_matrix = distance.squareform(distance.pdist(coords))\n",
      "distance_matrix"
     ],
     "language": "python",
     "metadata": {
      "slideshow": {
       "slide_type": "-"
      }
     },
     "outputs": [
      {
       "metadata": {},
       "output_type": "pyout",
       "prompt_number": 4,
       "text": [
        "array([[ 0.        ,  0.01379366,  0.01702168, ...,  0.08209694,\n",
        "         0.06449113,  0.02077172],\n",
        "       [ 0.01379366,  0.        ,  0.01922244, ...,  0.08913307,\n",
        "         0.07827378,  0.01738706],\n",
        "       [ 0.01702168,  0.01922244,  0.        , ...,  0.06996894,\n",
        "         0.06979314,  0.00760545],\n",
        "       ..., \n",
        "       [ 0.08209694,  0.08913307,  0.06996894, ...,  0.        ,\n",
        "         0.07578695,  0.07410379],\n",
        "       [ 0.06449113,  0.07827378,  0.06979314, ...,  0.07578695,\n",
        "         0.        ,  0.07736061],\n",
        "       [ 0.02077172,  0.01738706,  0.00760545, ...,  0.07410379,\n",
        "         0.07736061,  0.        ]])"
       ]
      }
     ],
     "prompt_number": 4
    },
    {
     "cell_type": "heading",
     "level": 2,
     "metadata": {
      "slideshow": {
       "slide_type": "subslide"
      }
     },
     "source": [
      "Cluster"
     ]
    },
    {
     "cell_type": "code",
     "collapsed": false,
     "input": [
      "db = DBSCAN(eps=0.0003, min_samples=25).fit(distance_matrix)"
     ],
     "language": "python",
     "metadata": {
      "slideshow": {
       "slide_type": "skip"
      }
     },
     "outputs": [],
     "prompt_number": 5
    },
    {
     "cell_type": "code",
     "collapsed": false,
     "input": [
      "df['color'] = db.labels_\n",
      "df = df[df['color'] != -1]\n",
      "df[:3]"
     ],
     "language": "python",
     "metadata": {
      "slideshow": {
       "slide_type": "-"
      }
     },
     "outputs": [
      {
       "html": [
        "<div style=\"max-height:1000px;max-width:1500px;overflow:auto;\">\n",
        "<table border=\"1\" class=\"dataframe\">\n",
        "  <thead>\n",
        "    <tr style=\"text-align: right;\">\n",
        "      <th></th>\n",
        "      <th>index</th>\n",
        "      <th>coordinates</th>\n",
        "      <th>text</th>\n",
        "      <th>lon</th>\n",
        "      <th>lat</th>\n",
        "      <th>color</th>\n",
        "    </tr>\n",
        "  </thead>\n",
        "  <tbody>\n",
        "    <tr>\n",
        "      <th>3 </th>\n",
        "      <td> 10000</td>\n",
        "      <td> {u'type': u'Point', u'coordinates': [-0.1271, ...</td>\n",
        "      <td> Trend Alert: 'Charlie Charlie'. More trends at...</td>\n",
        "      <td>-0.127100</td>\n",
        "      <td> 51.506300</td>\n",
        "      <td> 0</td>\n",
        "    </tr>\n",
        "    <tr>\n",
        "      <th>17</th>\n",
        "      <td> 10016</td>\n",
        "      <td> {u'type': u'Point', u'coordinates': [-0.1275, ...</td>\n",
        "      <td> Bidoss\u00eassie's clothes. @bidossessie #fashion #...</td>\n",
        "      <td>-0.127500</td>\n",
        "      <td> 51.507200</td>\n",
        "      <td> 1</td>\n",
        "    </tr>\n",
        "    <tr>\n",
        "      <th>29</th>\n",
        "      <td> 10029</td>\n",
        "      <td> {u'type': u'Point', u'coordinates': [-0.172032...</td>\n",
        "      <td> \ud83d\udd1b\ud83d\udd1d\u2764\ufe0f\ud83c\udf39\u2757\ufe0f\u2755\u203c\ufe0f @ Lord's Cricket Ground https://...</td>\n",
        "      <td>-0.172033</td>\n",
        "      <td> 51.529665</td>\n",
        "      <td> 2</td>\n",
        "    </tr>\n",
        "  </tbody>\n",
        "</table>\n",
        "</div>"
       ],
       "metadata": {},
       "output_type": "pyout",
       "prompt_number": 6,
       "text": [
        "    index                                        coordinates  \\\n",
        "3   10000  {u'type': u'Point', u'coordinates': [-0.1271, ...   \n",
        "17  10016  {u'type': u'Point', u'coordinates': [-0.1275, ...   \n",
        "29  10029  {u'type': u'Point', u'coordinates': [-0.172032...   \n",
        "\n",
        "                                                 text       lon        lat  \\\n",
        "3   Trend Alert: 'Charlie Charlie'. More trends at... -0.127100  51.506300   \n",
        "17  Bidoss\u00eassie's clothes. @bidossessie #fashion #... -0.127500  51.507200   \n",
        "29  \ud83d\udd1b\ud83d\udd1d\u2764\ufe0f\ud83c\udf39\u2757\ufe0f\u2755\u203c\ufe0f @ Lord's Cricket Ground https://... -0.172033  51.529665   \n",
        "\n",
        "    color  \n",
        "3       0  \n",
        "17      1  \n",
        "29      2  "
       ]
      }
     ],
     "prompt_number": 6
    },
    {
     "cell_type": "heading",
     "level": 2,
     "metadata": {
      "slideshow": {
       "slide_type": "subslide"
      }
     },
     "source": [
      "Result"
     ]
    },
    {
     "cell_type": "code",
     "collapsed": false,
     "input": [
      "plt.figure(figsize=(10, 6), dpi=100)\n",
      "plt.scatter(df['lon'], df['lat'], c=df['color'], alpha=0.8, s=100)\n",
      "plt.title('DBSCAN clusters')\n",
      "plt.xlabel('Longitude')\n",
      "plt.ylabel('Latitude')"
     ],
     "language": "python",
     "metadata": {
      "slideshow": {
       "slide_type": "-"
      }
     },
     "outputs": [
      {
       "metadata": {},
       "output_type": "pyout",
       "prompt_number": 7,
       "text": [
        "<matplotlib.text.Text at 0x138541f90>"
       ]
      },
      {
       "metadata": {},
       "output_type": "display_data",
       "png": "[encoded data removed]",
       "text": [
        "<matplotlib.figure.Figure at 0x1259c3990>"
       ]
      }
     ],
     "prompt_number": 7
    },
    {
     "cell_type": "heading",
     "level": 1,
     "metadata": {
      "slideshow": {
       "slide_type": "slide"
      }
     },
     "source": [
      "Finding tweets about categories in clusters"
     ]
    },
    {
     "cell_type": "code",
     "collapsed": false,
     "input": [
      "from gensim.models.word2vec import Word2Vec\n",
      "model = Word2Vec.load_word2vec_format('google.bin.gz', binary=True)"
     ],
     "language": "python",
     "metadata": {
      "slideshow": {
       "slide_type": "skip"
      }
     },
     "outputs": [],
     "prompt_number": 8
    },
    {
     "cell_type": "code",
     "collapsed": false,
     "input": [
      "def get_sim(a, b):\n",
      "    try:\n",
      "        return model.similarity(a, b)\n",
      "    except KeyError:\n",
      "        return 0"
     ],
     "language": "python",
     "metadata": {
      "slideshow": {
       "slide_type": "skip"
      }
     },
     "outputs": [],
     "prompt_number": 9
    },
    {
     "cell_type": "heading",
     "level": 2,
     "metadata": {
      "slideshow": {
       "slide_type": "-"
      }
     },
     "source": [
      "Main function"
     ]
    },
    {
     "cell_type": "code",
     "collapsed": false,
     "input": [
      "def get_tweets_about(name):\n",
      "    df[name] = df['text'].apply(\n",
      "        lambda text: max(get_sim(name, t) for t in text.lower().split())\n",
      "    )\n",
      "    groups = df.sort(name, ascending=False).groupby('color', as_index=False)\n",
      "    for idx, row in groups.first().iterrows():\n",
      "        print idx, row['text']"
     ],
     "language": "python",
     "metadata": {
      "slideshow": {
       "slide_type": "-"
      }
     },
     "outputs": [],
     "prompt_number": 10
    },
    {
     "cell_type": "heading",
     "level": 2,
     "metadata": {
      "slideshow": {
       "slide_type": "subslide"
      }
     },
     "source": [
      "How it works?"
     ]
    },
    {
     "cell_type": "code",
     "collapsed": false,
     "input": [
      "get_tweets_about('restaurant')"
     ],
     "language": "python",
     "metadata": {
      "slideshow": {
       "slide_type": "-"
      }
     },
     "outputs": [
      {
       "output_type": "stream",
       "stream": "stdout",
       "text": [
        "0 1. #r4today\n",
        "2. #charliecharliechallenge\n",
        "3. #AfricaDay\n",
        "4. Bank Holiday Monday\n",
        "5. #MondayMotivation\n",
        "\n",
        "2015/5/25 08:34 BST\n",
        "1 Late lunch at one of my favourite restaurants in London. #Maroush #Lebanese #SoGood @ Knightsbridge,\u2026 https://t.co/YszzeSNmPu\n",
        "2 View from the tavern stand @ Lord's Cricket Ground https://t.co/u1pvIgRNUT\n",
        "3 #eatingndastreets artist @T_Supreme404  http://t.co/veN8ASbgkS looking do  features for free and comes with promotion from us!!\n",
        "4 Happy bank holiday Monday \ud83d\ude0d\ud83d\udc4d\ud83c\udffc\ud83d\ude04 lets hope the \u2600\ufe0fcomes out to play \ud83d\udc4d\ud83c\udffc\ud83d\ude0d\ud83d\ude0e\ud83d\udc4c\ud83c\udffc here's a bubbly\u2026 https://t.co/4vq6lG1bmr\n",
        "5 Came to Fulham to meet a friend for brunch and...look what we stumbled into. #Chelsea #football\u2026 https://t.co/V3JVGdABFJ\n",
        "6 SHE DID IT!!! That's not her time because she was in the last wave of people to start but eeeeeee so\u2026 https://t.co/0PQiX9IV5V\n"
       ]
      }
     ],
     "prompt_number": 11
    },
    {
     "cell_type": "heading",
     "level": 2,
     "metadata": {
      "slideshow": {
       "slide_type": "subslide"
      }
     },
     "source": [
      "Restaurant"
     ]
    },
    {
     "cell_type": "markdown",
     "metadata": {},
     "source": [
      "<img src=\"http://www.pammarketingnut.com/wp-content/uploads/photodune-3214980-birdie5-xs.jpg\" width=\"150px\" style=\"float: right\">\n",
      "### Late lunch at one of my favourite restaurants in London.<br> #Maroush #Lebanese #SoGood @ Knightsbridge,\u2026 https://t.co/YszzeSNmPu\n",
      "### View from the tavern stand @ Lord's Cricket Ground https://t.co/u1pvIgRNUT"
     ]
    },
    {
     "cell_type": "heading",
     "level": 2,
     "metadata": {
      "slideshow": {
       "slide_type": "subslide"
      }
     },
     "source": [
      "Sport"
     ]
    },
    {
     "cell_type": "code",
     "collapsed": false,
     "input": [
      "get_tweets_about('sport')"
     ],
     "language": "python",
     "metadata": {
      "slideshow": {
       "slide_type": "skip"
      }
     },
     "outputs": [
      {
       "output_type": "stream",
       "stream": "stdout",
       "text": [
        "0 536,624 people could have seen '3 Queens' since its 1st mention until it became a Trending Topic. #trndnl\n",
        "1 Check out our youth \ud83d\ude02. .. Love my mama\n",
        "#Stratford #SDA #Church # Youth #Social @ London, United Kingdom https://t.co/1GL1voWmOA\n",
        "2 At Headquarters. Come on England! @ Lord's Cricket Ground https://t.co/DrfloqkZhR\n",
        "3 #eatingndastreets artist @T_Supreme404  http://t.co/veN8ASbgkS looking do  features for free and comes with promotion from us!!\n",
        "4 yesterday was pretty much everything i ever wanted out of a day. @ Tate Modern https://t.co/xzeCqzQ5w3\n",
        "5 WE WON THE LEAGUE \ud83d\udc99 #CFC @ Stamford Bridge https://t.co/LAUgo7NLtj\n",
        "6 Watching the 10K Bupa race with Miss avnitashergill #Helitech team @ London Bupa 10k https://t.co/NJDuvRB5KE\n"
       ]
      }
     ],
     "prompt_number": 33
    },
    {
     "cell_type": "code",
     "collapsed": false,
     "input": [
      "get_tweets_about('chelsea')"
     ],
     "language": "python",
     "metadata": {
      "slideshow": {
       "slide_type": "skip"
      }
     },
     "outputs": [
      {
       "output_type": "stream",
       "stream": "stdout",
       "text": [
        "0 6. Off to Wembley\n",
        "7. Danny Murphy\n",
        "8. Tyson Beckford\n",
        "9. Stoke\n",
        "10. Liverpool\n",
        "\n",
        "2015/5/25 07:34 BST #trndnl http://t.co/do7Hdxwcnc\n",
        "1 Back in London Town!!! #helsinki #finland #scandi #Scandinavia #nordic #baltic #adventure #explore\u2026 https://t.co/McRyzJyNTs\n",
        "2 Watching England smashing some Kiwis @ Lord's Cricket Ground https://t.co/616cUxe1eI\n",
        "3 #retweet4follow #retweet4follow #retweet4follow Best Commercial free HipHop radio app http://t.co/BPeaDpYMnC\n",
        "4 Old London and new #London all in one. #TateModern #MillenniumBridge #RiverThames @ Tate Modern https://t.co/7O0d7A5rRU\n",
        "5 Chelsea fans waiting for the victory parade. Disclaimer - I'm not a Chelsea fan.  #chelsea\u2026 https://t.co/4mIaUmhTd6\n",
        "6 Finishers medal for #bupa10k  #2015 #London #running @ London Bupa 10k https://t.co/E2ehcsAECM\n"
       ]
      }
     ],
     "prompt_number": 34
    },
    {
     "cell_type": "markdown",
     "metadata": {},
     "source": [
      "<img src=\"http://www.pammarketingnut.com/wp-content/uploads/photodune-3214980-birdie5-xs.jpg\" width=\"150px\" style=\"float: right\">\n",
      "### WE WON THE LEAGUE \ud83d\udc99<br> #CFC @ Stamford Bridge https://t.co/LAUgo7NLtj\n",
      "### Finishers medal for #bupa10k  #2015 #London #running <br> @ London Bupa 10k https://t.co/E2ehcsAECM"
     ]
    },
    {
     "cell_type": "heading",
     "level": 2,
     "metadata": {
      "slideshow": {
       "slide_type": "subslide"
      }
     },
     "source": [
      "Culture"
     ]
    },
    {
     "cell_type": "code",
     "collapsed": false,
     "input": [
      "get_tweets_about('museum')"
     ],
     "language": "python",
     "metadata": {
      "slideshow": {
       "slide_type": "skip"
      }
     },
     "outputs": [
      {
       "output_type": "stream",
       "stream": "stdout",
       "text": [
        "0 London was the city of United Kingdom with more Trends on Sunday 24: http://t.co/MCDIMLCglu #trndnl\n",
        "1 #alexandermcqueen #savagebeauty #v&amp;a @ Savage Beauty, Victoria &amp; Albert Museum https://t.co/8nLVPiTTNv\n",
        "2 View from the tavern stand @ Lord's Cricket Ground https://t.co/u1pvIgRNUT\n",
        "3 #eatingndastreets artist @T_Supreme404  http://t.co/veN8ASbgkS looking do  features for free and comes with promotion from us!!\n",
        "4 Off Print London, fantastic art publishing fair. @ Tate Modern https://t.co/kYrkDMNeT5\n",
        "5 Pergi chelsea megastore nak beli jersey, terbeli hati dia ni pulak #COYG #AdventureTimeWithDanish @\u2026 https://t.co/rYO2swPmzU\n",
        "6 He did it! Just under 47 minutes! #Proud @ London Bupa 10k https://t.co/1JLs5ceuRF\n"
       ]
      }
     ],
     "prompt_number": 27
    },
    {
     "cell_type": "code",
     "collapsed": false,
     "input": [
      "get_tweets_about('concert')"
     ],
     "language": "python",
     "metadata": {
      "slideshow": {
       "slide_type": "skip"
      }
     },
     "outputs": [
      {
       "output_type": "stream",
       "stream": "stdout",
       "text": [
        "0 6. Redmond\n",
        "7. #BankHolidayMonday\n",
        "8. #GetStupid\n",
        "9. Heather Watson\n",
        "10. Dances with Wolves\n",
        "\n",
        "2015/5/25 16:56 BST #trndnl http://t.co/do7Hdxwcnc\n",
        "1 Hang out in London with amazing singer kellileighuk \n",
        "#Kelli #Leigh #London #UK #travel #trip\u2026 https://t.co/GWH2ldD6Zc\n",
        "2 Day 5 Eng v NZ \u00a320 a ticket bargain! @ Lord's Cricket Ground https://t.co/l1kLa9v6Vb\n",
        "3 #eatingndastreets artist @T_Supreme404  http://t.co/veN8ASbgkS looking do  features for free and comes with promotion from us!!\n",
        "4 Pablo Picasso The Three Dancers at the Tate. #Tate #tatemodern #art #museum #pablopicasso\u2026 https://t.co/2Fatni3Mhn\n",
        "5 Came to Fulham to meet a friend for brunch and...look what we stumbled into. #Chelsea #football\u2026 https://t.co/V3JVGdABFJ\n",
        "6 @jodebaker premierinn goshcc #teamGOSH #goshcc thank you Jodie and Janet for being there to cheer me\u2026 https://t.co/Inrf9b1sOA\n"
       ]
      }
     ],
     "prompt_number": 31
    },
    {
     "cell_type": "markdown",
     "metadata": {},
     "source": [
      "<img src=\"http://www.pammarketingnut.com/wp-content/uploads/photodune-3214980-birdie5-xs.jpg\" width=\"150px\" style=\"float: right\">\n",
      "### Off Print London, fantastic art publishing fair. <br> @ Tate Modern https://t.co/kYrkDMNeT5\n",
      "### Pablo Picasso The Three Dancers at the Tate. <br> #Tate #tatemodern #art #museum #pablopicasso\u2026 https://t.co/2Fatni3Mhn"
     ]
    },
    {
     "cell_type": "markdown",
     "metadata": {
      "slideshow": {
       "slide_type": "slide"
      }
     },
     "source": [
      "# Horizontal"
     ]
    },
    {
     "cell_type": "markdown",
     "metadata": {},
     "source": [
      "http://s375535.students.wmi.amu.edu.pl/socialMap/"
     ]
    }
   ],
   "metadata": {}
  }
 ]
}