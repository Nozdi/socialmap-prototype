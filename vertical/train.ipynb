{
 "metadata": {
  "celltoolbar": "Slideshow",
  "kernelspec": {
   "display_name": "Python 2",
   "language": "python",
   "name": "python2"
  },
  "language_info": {
   "codemirror_mode": {
    "name": "ipython",
    "version": 2
   },
   "file_extension": ".py",
   "mimetype": "text/x-python",
   "name": "python",
   "nbconvert_exporter": "python",
   "pygments_lexer": "ipython2",
   "version": "2.7.9"
  },
  "name": "",
  "signature": "sha256:f7dfd1f111592562e879ad13c29c34d2216313efe70294051abc48f28927db9f"
 },
 "nbformat": 3,
 "nbformat_minor": 0,
 "worksheets": [
  {
   "cells": [
    {
     "cell_type": "heading",
     "level": 2,
     "metadata": {
      "slideshow": {
       "slide_type": "slide"
      }
     },
     "source": [
      "Clustering data"
     ]
    },
    {
     "cell_type": "code",
     "collapsed": true,
     "input": [
      "import pandas as pd\n",
      "import numpy as np\n",
      "import matplotlib.pyplot as plt\n",
      "from sklearn.cluster import DBSCAN\n",
      "from scipy.spatial import distance\n",
      "%matplotlib inline "
     ],
     "language": "python",
     "metadata": {
      "slideshow": {
       "slide_type": "skip"
      }
     },
     "outputs": [],
     "prompt_number": 1
    },
    {
     "cell_type": "heading",
     "level": 3,
     "metadata": {
      "slideshow": {
       "slide_type": "-"
      }
     },
     "source": [
      "Loading data"
     ]
    },
    {
     "cell_type": "code",
     "collapsed": false,
     "input": [
      "df = pd.read_json('data.json')[['coordinates', 'text']]\n",
      "df.dropna(inplace=True)\n",
      "df.reset_index(inplace=True)\n",
      "df = df[:5000]"
     ],
     "language": "python",
     "metadata": {
      "slideshow": {
       "slide_type": "-"
      }
     },
     "outputs": [],
     "prompt_number": 2
    },
    {
     "cell_type": "heading",
     "level": 3,
     "metadata": {
      "slideshow": {
       "slide_type": "-"
      }
     },
     "source": [
      "Get coordinates from data"
     ]
    },
    {
     "cell_type": "code",
     "collapsed": false,
     "input": [
      "df[['lon', 'lat']] = df['coordinates'].apply(\n",
      "    lambda c: pd.Series(c['coordinates'])\n",
      ")\n",
      "df['color'] = -1"
     ],
     "language": "python",
     "metadata": {
      "slideshow": {
       "slide_type": "-"
      }
     },
     "outputs": [],
     "prompt_number": 3
    },
    {
     "cell_type": "heading",
     "level": 3,
     "metadata": {
      "slideshow": {
       "slide_type": "slide"
      }
     },
     "source": [
      "Count distances"
     ]
    },
    {
     "cell_type": "code",
     "collapsed": false,
     "input": [
      "coords = df.as_matrix(columns=['lon', 'lat'])\n",
      "distance_matrix = distance.squareform(distance.pdist(coords))"
     ],
     "language": "python",
     "metadata": {
      "slideshow": {
       "slide_type": "-"
      }
     },
     "outputs": [],
     "prompt_number": 4
    },
    {
     "cell_type": "heading",
     "level": 3,
     "metadata": {},
     "source": [
      "Cluster"
     ]
    },
    {
     "cell_type": "code",
     "collapsed": false,
     "input": [
      "db = DBSCAN(eps=0.0003, min_samples=25).fit(distance_matrix)"
     ],
     "language": "python",
     "metadata": {
      "slideshow": {
       "slide_type": "skip"
      }
     },
     "outputs": [],
     "prompt_number": 5
    },
    {
     "cell_type": "code",
     "collapsed": false,
     "input": [
      "labels = set(db.labels_)\n",
      "for k in labels:\n",
      "    class_members = np.argwhere(db.labels_ == k).ravel()\n",
      "    df.loc[class_members, 'color'] = k\n",
      "\n",
      "df = df[df['color'] != -1]\n",
      "len(labels)"
     ],
     "language": "python",
     "metadata": {
      "slideshow": {
       "slide_type": "-"
      }
     },
     "outputs": [
      {
       "metadata": {},
       "output_type": "pyout",
       "prompt_number": 6,
       "text": [
        "8"
       ]
      }
     ],
     "prompt_number": 6
    },
    {
     "cell_type": "heading",
     "level": 3,
     "metadata": {
      "slideshow": {
       "slide_type": "slide"
      }
     },
     "source": [
      "Result"
     ]
    },
    {
     "cell_type": "code",
     "collapsed": false,
     "input": [
      "plt.figure(figsize=(10, 6), dpi=100)\n",
      "plt.scatter(df['lon'], df['lat'], c=df['color'], alpha=0.8, s=100)\n",
      "plt.title('DBSCAN clusters')\n",
      "plt.xlabel('Longitude')\n",
      "plt.ylabel('Latitude')"
     ],
     "language": "python",
     "metadata": {
      "slideshow": {
       "slide_type": "-"
      }
     },
     "outputs": [
      {
       "metadata": {},
       "output_type": "pyout",
       "prompt_number": 9,
       "text": [
        "<matplotlib.text.Text at 0x135426990>"
       ]
      },
      {
       "metadata": {},
       "output_type": "display_data",
       "png": "[encoded data removed]",
       "text": [
        "<matplotlib.figure.Figure at 0x12d3ed2d0>"
       ]
      }
     ],
     "prompt_number": 9
    },
    {
     "cell_type": "heading",
     "level": 2,
     "metadata": {
      "slideshow": {
       "slide_type": "slide"
      }
     },
     "source": [
      "Finding tweets about restaurants in clusters"
     ]
    },
    {
     "cell_type": "code",
     "collapsed": false,
     "input": [
      "from gensim.models.word2vec import Word2Vec\n",
      "model = Word2Vec.load_word2vec_format('google.bin.gz', binary=True)"
     ],
     "language": "python",
     "metadata": {
      "slideshow": {
       "slide_type": "skip"
      }
     },
     "outputs": [],
     "prompt_number": 10
    },
    {
     "cell_type": "code",
     "collapsed": false,
     "input": [
      "def get_sim(a, b):\n",
      "    try:\n",
      "        return model.similarity(a, b)\n",
      "    except KeyError:\n",
      "        return 0"
     ],
     "language": "python",
     "metadata": {
      "slideshow": {
       "slide_type": "skip"
      }
     },
     "outputs": [],
     "prompt_number": 11
    },
    {
     "cell_type": "heading",
     "level": 3,
     "metadata": {
      "slideshow": {
       "slide_type": "-"
      }
     },
     "source": [
      "Getting tweets about restaurants"
     ]
    },
    {
     "cell_type": "code",
     "collapsed": false,
     "input": [
      "def get_tweets_about(name='restaurant'):\n",
      "    df[name] = df['text'].apply(\n",
      "        lambda text: max(get_sim(name, t) for t in text.lower().split())\n",
      "    )\n",
      "    for idx, row in df.sort(name, ascending=False).groupby('color', as_index=False).first().iterrows():\n",
      "        print idx, row['text']"
     ],
     "language": "python",
     "metadata": {
      "slideshow": {
       "slide_type": "-"
      }
     },
     "outputs": [],
     "prompt_number": 12
    },
    {
     "cell_type": "heading",
     "level": 3,
     "metadata": {
      "slideshow": {
       "slide_type": "subslide"
      }
     },
     "source": [
      "Restaurant"
     ]
    },
    {
     "cell_type": "code",
     "collapsed": false,
     "input": [
      "get_tweets_about('restaurant')"
     ],
     "language": "python",
     "metadata": {
      "slideshow": {
       "slide_type": "-"
      }
     },
     "outputs": [
      {
       "output_type": "stream",
       "stream": "stdout",
       "text": [
        "0 1. #r4today\n",
        "2. #charliecharliechallenge\n",
        "3. #AfricaDay\n",
        "4. Bank Holiday Monday\n",
        "5. #MondayMotivation\n",
        "\n",
        "2015/5/25 08:34 BST\n",
        "1 Late lunch at one of my favourite restaurants in London. #Maroush #Lebanese #SoGood @ Knightsbridge,\u2026 https://t.co/YszzeSNmPu\n",
        "2 View from the tavern stand @ Lord's Cricket Ground https://t.co/u1pvIgRNUT\n",
        "3 #eatingndastreets artist @T_Supreme404  http://t.co/veN8ASbgkS looking do  features for free and comes with promotion from us!!\n",
        "4 Happy bank holiday Monday \ud83d\ude0d\ud83d\udc4d\ud83c\udffc\ud83d\ude04 lets hope the \u2600\ufe0fcomes out to play \ud83d\udc4d\ud83c\udffc\ud83d\ude0d\ud83d\ude0e\ud83d\udc4c\ud83c\udffc here's a bubbly\u2026 https://t.co/4vq6lG1bmr\n",
        "5 Came to Fulham to meet a friend for brunch and...look what we stumbled into. #Chelsea #football\u2026 https://t.co/V3JVGdABFJ\n",
        "6 SHE DID IT!!! That's not her time because she was in the last wave of people to start but eeeeeee so\u2026 https://t.co/0PQiX9IV5V\n"
       ]
      }
     ],
     "prompt_number": 13
    },
    {
     "cell_type": "heading",
     "level": 3,
     "metadata": {
      "slideshow": {
       "slide_type": "subslide"
      }
     },
     "source": [
      "Accomodation"
     ]
    },
    {
     "cell_type": "code",
     "collapsed": false,
     "input": [
      "get_tweets_about('accomodation')"
     ],
     "language": "python",
     "metadata": {},
     "outputs": [
      {
       "output_type": "stream",
       "stream": "stdout",
       "text": [
        "0 London was the city of United Kingdom with more Trends on Sunday 24: http://t.co/MCDIMLCglu #trndnl\n",
        "1 Good night Sunday LA\n",
        "Good morning Monday London \n",
        "#itsstillaholiday #memorialdayweekend\u2026 https://t.co/Z3Jj2KalDg\n",
        "2 Day 5 Eng v NZ \u00a320 a ticket bargain! @ Lord's Cricket Ground https://t.co/l1kLa9v6Vb\n",
        "3 #eatingndastreets artist @T_Supreme404  http://t.co/veN8ASbgkS looking do  features for free and comes with promotion from us!!\n",
        "4 Last day of @offprintlondon London tatemodern. Last day to come see us at booth 134 and get your\u2026 https://t.co/8kHBersgbM\n",
        "5 Truly the pride of London #chelsea #weRthechampions #Stamfordbridge @ Stamford Bridge https://t.co/kcQ6NScC9M\n",
        "6 Watching the 10K Bupa race with Miss avnitashergill #Helitech team @ London Bupa 10k https://t.co/NJDuvRB5KE\n"
       ]
      }
     ],
     "prompt_number": 15
    },
    {
     "cell_type": "heading",
     "level": 3,
     "metadata": {
      "slideshow": {
       "slide_type": "subslide"
      }
     },
     "source": [
      "Sport"
     ]
    },
    {
     "cell_type": "code",
     "collapsed": false,
     "input": [
      "get_tweets_about('sport')"
     ],
     "language": "python",
     "metadata": {},
     "outputs": [
      {
       "output_type": "stream",
       "stream": "stdout",
       "text": [
        "0 536,624 people could have seen '3 Queens' since its 1st mention until it became a Trending Topic. #trndnl\n",
        "1 Check out our youth \ud83d\ude02. .. Love my mama\n",
        "#Stratford #SDA #Church # Youth #Social @ London, United Kingdom https://t.co/1GL1voWmOA\n",
        "2 At Headquarters. Come on England! @ Lord's Cricket Ground https://t.co/DrfloqkZhR\n",
        "3 #eatingndastreets artist @T_Supreme404  http://t.co/veN8ASbgkS looking do  features for free and comes with promotion from us!!\n",
        "4 yesterday was pretty much everything i ever wanted out of a day. @ Tate Modern https://t.co/xzeCqzQ5w3\n",
        "5 WE WON THE LEAGUE \ud83d\udc99 #CFC @ Stamford Bridge https://t.co/LAUgo7NLtj\n",
        "6 Watching the 10K Bupa race with Miss avnitashergill #Helitech team @ London Bupa 10k https://t.co/NJDuvRB5KE\n"
       ]
      }
     ],
     "prompt_number": 16
    },
    {
     "cell_type": "heading",
     "level": 3,
     "metadata": {
      "slideshow": {
       "slide_type": "subslide"
      }
     },
     "source": [
      "Culture"
     ]
    },
    {
     "cell_type": "code",
     "collapsed": false,
     "input": [
      "get_tweets_about('culture')"
     ],
     "language": "python",
     "metadata": {},
     "outputs": [
      {
       "output_type": "stream",
       "stream": "stdout",
       "text": [
        "0 Trend Alert: #MTVaskStereoKicks. More trends at http://t.co/do7Hdxwcnc #trndnl http://t.co/a2oQ3dcTEv\n",
        "1 I'd like a cheese-burger, large fries, and a cosmopolitan @ London, United Kingdom https://t.co/DLAFvSbFut\n",
        "2 Hat trick ball for Ben Stokes. Crowd full-throated. This is not your traditional Lords atmosphere\u2026 https://t.co/4a7N3TU7Wu\n",
        "3 #retweet4follow #retweet4follow #retweet4follow Best Commercial free HipHop radio app http://t.co/BPeaDpYMnC\n",
        "4 Slowly munching through carrot cake at as many of London's cultural hotspots as I can. Also, when a\u2026 https://t.co/pmZZS3fnH4\n",
        "5 Truly the pride of London #chelsea #weRthechampions #Stamfordbridge @ Stamford Bridge https://t.co/kcQ6NScC9M\n",
        "6 Finished the #Bupa10000 running for Harefield Hospital. Great to see so many people running and\u2026 https://t.co/UiloxuI6BI\n"
       ]
      }
     ],
     "prompt_number": 18
    }
   ],
   "metadata": {}
  }
 ]
}