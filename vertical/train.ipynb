{
 "metadata": {
  "kernelspec": {
   "display_name": "Python 2",
   "language": "python",
   "name": "python2"
  },
  "language_info": {
   "codemirror_mode": {
    "name": "ipython",
    "version": 2
   },
   "file_extension": ".py",
   "mimetype": "text/x-python",
   "name": "python",
   "nbconvert_exporter": "python",
   "pygments_lexer": "ipython2",
   "version": "2.7.9"
  },
  "name": "",
  "signature": "sha256:e2f828fdfaaf386470b9120d4c63a6a989e45d4b1a24a5176ecbef7b55c3bc64"
 },
 "nbformat": 3,
 "nbformat_minor": 0,
 "worksheets": [
  {
   "cells": [
    {
     "cell_type": "markdown",
     "metadata": {},
     "source": [
      "## Clustering data"
     ]
    },
    {
     "cell_type": "code",
     "collapsed": true,
     "input": [
      "import pandas as pd\n",
      "import matplotlib.pyplot as plt\n",
      "from sklearn.cluster import DBSCAN\n",
      "from scipy.spatial import distance\n",
      "%matplotlib inline "
     ],
     "language": "python",
     "metadata": {},
     "outputs": [],
     "prompt_number": 48
    },
    {
     "cell_type": "code",
     "collapsed": false,
     "input": [
      "df = pd.read_json('data.json')[['coordinates', 'text']]\n",
      "df.dropna(inplace=True)\n",
      "df.reset_index(inplace=True)\n",
      "df = df[:5000]"
     ],
     "language": "python",
     "metadata": {},
     "outputs": [],
     "prompt_number": 49
    },
    {
     "cell_type": "code",
     "collapsed": false,
     "input": [
      "df[['lon', 'lat']] = df['coordinates'].apply(lambda c: pd.Series(c['coordinates']))\n",
      "df['color'] = -1"
     ],
     "language": "python",
     "metadata": {},
     "outputs": [],
     "prompt_number": 50
    },
    {
     "cell_type": "code",
     "collapsed": false,
     "input": [
      "coords = df.as_matrix(columns=['lon', 'lat'])\n",
      "distance_matrix = distance.squareform(distance.pdist(coords))\n",
      "distance_matrix.shape"
     ],
     "language": "python",
     "metadata": {},
     "outputs": [
      {
       "metadata": {},
       "output_type": "pyout",
       "prompt_number": 51,
       "text": [
        "(5000, 5000)"
       ]
      }
     ],
     "prompt_number": 51
    },
    {
     "cell_type": "code",
     "collapsed": false,
     "input": [
      "db = DBSCAN(eps=0.0003, min_samples=25).fit(distance_matrix)"
     ],
     "language": "python",
     "metadata": {},
     "outputs": [],
     "prompt_number": 52
    },
    {
     "cell_type": "code",
     "collapsed": false,
     "input": [
      "labels = set(db.labels_)\n",
      "print len(labels)\n",
      "for k in labels:\n",
      "    class_members = np.argwhere(db.labels_ == k).ravel()\n",
      "    df.loc[class_members, 'color'] = k\n",
      "\n",
      "df = df[df['color'] != -1]"
     ],
     "language": "python",
     "metadata": {},
     "outputs": [
      {
       "output_type": "stream",
       "stream": "stdout",
       "text": [
        "8\n"
       ]
      }
     ],
     "prompt_number": 53
    },
    {
     "cell_type": "code",
     "collapsed": false,
     "input": [
      "plt.figure(figsize=(10, 6), dpi=100)\n",
      "df_scatter = plt.scatter(df['lon'], df['lat'], c=df['color'], alpha=0.8, s=100)\n",
      "plt.title('DBSCAN clusters')\n",
      "plt.xlabel('Longitude')\n",
      "plt.ylabel('Latitude')\n",
      "plt.show()"
     ],
     "language": "python",
     "metadata": {},
     "outputs": [
      {
       "metadata": {},
       "output_type": "display_data",
       "png": "[encoded data removed]",
       "text": [
        "<matplotlib.figure.Figure at 0x130bec8d0>"
       ]
      }
     ],
     "prompt_number": 55
    },
    {
     "cell_type": "markdown",
     "metadata": {},
     "source": [
      "## Finding tweets about restaurants in clusters"
     ]
    },
    {
     "cell_type": "code",
     "collapsed": false,
     "input": [
      "from gensim.models.word2vec import Word2Vec\n",
      "model = Word2Vec.load_word2vec_format('google.bin.gz', binary=True)"
     ],
     "language": "python",
     "metadata": {},
     "outputs": [],
     "prompt_number": 59
    },
    {
     "cell_type": "code",
     "collapsed": false,
     "input": [
      "def get_sim(a, b):\n",
      "    try:\n",
      "        return model.similarity(a, b)\n",
      "    except KeyError:\n",
      "        return 0"
     ],
     "language": "python",
     "metadata": {},
     "outputs": [],
     "prompt_number": 62
    },
    {
     "cell_type": "code",
     "collapsed": false,
     "input": [
      "def get_tweets_about(name='restaurant'):\n",
      "    df[name] = df['text'].apply(lambda text: max(get_sim(name, t) for t in text.lower().split()))\n",
      "    for idx, row in df.sort(name, ascending=False).groupby('color', as_index=False).first().iterrows():\n",
      "        print idx, row['text']"
     ],
     "language": "python",
     "metadata": {},
     "outputs": [],
     "prompt_number": 109
    },
    {
     "cell_type": "code",
     "collapsed": false,
     "input": [
      "get_tweets_about()"
     ],
     "language": "python",
     "metadata": {},
     "outputs": [
      {
       "output_type": "stream",
       "stream": "stdout",
       "text": [
        "0 1. #r4today\n",
        "2. #charliecharliechallenge\n",
        "3. #AfricaDay\n",
        "4. Bank Holiday Monday\n",
        "5. #MondayMotivation\n",
        "\n",
        "2015/5/25 08:34 BST\n",
        "1 Late lunch at one of my favourite restaurants in London. #Maroush #Lebanese #SoGood @ Knightsbridge,\u2026 https://t.co/YszzeSNmPu\n",
        "2 View from the tavern stand @ Lord's Cricket Ground https://t.co/u1pvIgRNUT\n",
        "3 #eatingndastreets artist @T_Supreme404  http://t.co/veN8ASbgkS looking do  features for free and comes with promotion from us!!\n",
        "4 Happy bank holiday Monday \ud83d\ude0d\ud83d\udc4d\ud83c\udffc\ud83d\ude04 lets hope the \u2600\ufe0fcomes out to play \ud83d\udc4d\ud83c\udffc\ud83d\ude0d\ud83d\ude0e\ud83d\udc4c\ud83c\udffc here's a bubbly\u2026 https://t.co/4vq6lG1bmr\n",
        "5 Came to Fulham to meet a friend for brunch and...look what we stumbled into. #Chelsea #football\u2026 https://t.co/V3JVGdABFJ\n",
        "6 SHE DID IT!!! That's not her time because she was in the last wave of people to start but eeeeeee so\u2026 https://t.co/0PQiX9IV5V\n"
       ]
      }
     ],
     "prompt_number": 110
    },
    {
     "cell_type": "code",
     "collapsed": false,
     "input": [],
     "language": "python",
     "metadata": {},
     "outputs": []
    }
   ],
   "metadata": {}
  }
 ]
}